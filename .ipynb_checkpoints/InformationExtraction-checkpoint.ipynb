{
 "cells": [
  {
   "cell_type": "code",
   "execution_count": 1,
   "metadata": {
    "colab": {},
    "colab_type": "code",
    "id": "1Gpf4kmb-5GH"
   },
   "outputs": [],
   "source": [
    "import os,re\n",
    "import pickle\n",
    "import numpy as np\n",
    "import nltk\n"
   ]
  },
  {
   "cell_type": "code",
   "execution_count": 5,
   "metadata": {
    "colab": {
     "base_uri": "https://localhost:8080/",
     "height": 171
    },
    "colab_type": "code",
    "executionInfo": {
     "elapsed": 1894,
     "status": "error",
     "timestamp": 1577184661156,
     "user": {
      "displayName": "Savas Yıldırım",
      "photoUrl": "https://lh3.googleusercontent.com/a-/AAuE7mAXXLjVbTH03-neVxUIKoaTwyHYs4NI5ioEDPbd3g=s64",
      "userId": "10717726124681851716"
     },
     "user_tz": -180
    },
    "id": "NDOYDSuQh9MJ",
    "outputId": "1ed15bca-34ee-4687-9513-a1c5e4f9dd91"
   },
   "outputs": [],
   "source": [
    "# list of string\n",
    "los= [line.lower().replace('\"','').strip() for line in open('evliya4.txt' ,encoding=\"utf8\")]\n",
    "# list of list of words\n",
    "lol= [line.split() for line in los]\n",
    "# flat all in one string line\n",
    "flat=\"\"\n",
    "for s in los:\n",
    "    flat=flat+\" \"+s"
   ]
  },
  {
   "cell_type": "code",
   "execution_count": null,
   "metadata": {},
   "outputs": [],
   "source": []
  },
  {
   "cell_type": "code",
   "execution_count": 6,
   "metadata": {
    "colab": {
     "base_uri": "https://localhost:8080/",
     "height": 121
    },
    "colab_type": "code",
    "executionInfo": {
     "elapsed": 33439,
     "status": "ok",
     "timestamp": 1576427412724,
     "user": {
      "displayName": "Savas Yıldırım",
      "photoUrl": "https://lh3.googleusercontent.com/a-/AAuE7mAXXLjVbTH03-neVxUIKoaTwyHYs4NI5ioEDPbd3g=s64",
      "userId": "10717726124681851716"
     },
     "user_tz": -180
    },
    "id": "Rn73-E-F_Kyi",
    "outputId": "214c3a1e-a7d2-41c6-b0c9-25dccd56f02e"
   },
   "outputs": [
    {
     "data": {
      "text/plain": [
       "'dibâce-i seyâhatnâme-i seyyâh-ı âlem evliyâ-yı bî-riyâ'"
      ]
     },
     "execution_count": 6,
     "metadata": {},
     "output_type": "execute_result"
    }
   ],
   "source": [
    "los[0]"
   ]
  },
  {
   "cell_type": "code",
   "execution_count": 7,
   "metadata": {},
   "outputs": [
    {
     "data": {
      "text/plain": [
       "['dibâce-i', 'seyâhatnâme-i', 'seyyâh-ı', 'âlem', 'evliyâ-yı', 'bî-riyâ']"
      ]
     },
     "execution_count": 7,
     "metadata": {},
     "output_type": "execute_result"
    }
   ],
   "source": [
    "lol[0]"
   ]
  },
  {
   "cell_type": "code",
   "execution_count": 12,
   "metadata": {},
   "outputs": [],
   "source": [
    "evliya=[]\n",
    "for e in lol:\n",
    "    evliya=evliya+e\n",
    "evliyaText=nltk.Text(evliya)"
   ]
  },
  {
   "cell_type": "code",
   "execution_count": 13,
   "metadata": {},
   "outputs": [
    {
     "name": "stdout",
     "output_type": "stream",
     "text": [
      "Displaying 2 of 11 matches:\n",
      "vkât-ı hamseye me’mûr eyledi ve şerâ’it-i i̇slâm'd\n",
      "üşâyı bu tarîkle inşâ eyledi kim müverrihân-ı rûm \n"
     ]
    }
   ],
   "source": [
    "evliyaText.concordance(\"eyledi\",50,2)"
   ]
  },
  {
   "cell_type": "code",
   "execution_count": 14,
   "metadata": {},
   "outputs": [
    {
     "name": "stdout",
     "output_type": "stream",
     "text": [
      "Displaying 10 of 99 matches:\n",
      "-i azîm ile bursa şehrinin te\n",
      "'azzam olan bursa şehrin seyr\n",
      "ba‘zı zamân bursa müvellâsına\n",
      "rân ederken bursa hâyilinde s\n",
      "berekâtiyle bursa tûfândan so\n",
      "p vardıkda, bursa feth olduğu\n",
      "ârih feth-i bursa [761], diğe\n",
      "[626], ammâ bursa lafzı noksa\n",
      "ez-în-cânib bursa feth-i cedî\n",
      "â hâze’l-ân bursa ma’mûr [u] \n"
     ]
    }
   ],
   "source": [
    "evliyaText.concordance(\"Bursa\",30,10)"
   ]
  },
  {
   "cell_type": "code",
   "execution_count": 15,
   "metadata": {},
   "outputs": [
    {
     "name": "stdout",
     "output_type": "stream",
     "text": [
      "Displaying 10 of 20 matches:\n",
      "ile bursa şehrinin \n",
      "kahkahâ’dır. bursa şehrinin \n",
      "yokdur. bursa şehrinin \n",
      "câmi’i bursa şehrinin \n",
      "olunmuş, bursa şehrinin \n",
      "ve bursa şehrinin \n",
      "derler. bursa şehrinin \n",
      "833. bursa şehrinin \n",
      "olmağıla gekbiziye şehrinin \n",
      "değildir. bolu şehrinin \n"
     ]
    }
   ],
   "source": [
    "evliyaText.concordance(\"şehrinin\",10,10)"
   ]
  },
  {
   "cell_type": "code",
   "execution_count": 16,
   "metadata": {},
   "outputs": [
    {
     "name": "stdout",
     "output_type": "stream",
     "text": [
      "Displaying 10 of 20 matches:\n",
      "ile bursa şehrinin \n",
      "kahkahâ’dır. bursa şehrinin \n",
      "yokdur. bursa şehrinin \n",
      "câmi’i bursa şehrinin \n",
      "olunmuş, bursa şehrinin \n",
      "ve bursa şehrinin \n",
      "derler. bursa şehrinin \n",
      "833. bursa şehrinin \n",
      "olmağıla gekbiziye şehrinin \n",
      "değildir. bolu şehrinin \n"
     ]
    }
   ],
   "source": [
    "evliyaText.concordance(\"şehrinin\",10,10)"
   ]
  },
  {
   "cell_type": "code",
   "execution_count": 17,
   "metadata": {},
   "outputs": [
    {
     "name": "stdout",
     "output_type": "stream",
     "text": [
      "Displaying 4 of 4 matches:\n",
      "bir câmi’ i ve altı yüz mikdârı toprak örtülü hâne-i tahtânîleri vardır. bir hânı ve bir hammâmı ve kırk elli kadar dükkânı vardır. sengistân ve kürdistân yer olmağıla ol kadar ma’mûr şehr değildir. ammâ halkı gâyet şccf ve bahâdır merd-i hudâ server-i hünerverler- dir. evsâf-ı germâb-ı ibret-nümâ:\n",
      "görseler kim hadım ca’fer paşa’nın kethüdası tebrîz kal’asın kapayup bunlara balyemez toplar urup kal’adan top ve ardlarından tavâşî ca’fer paşa kürdistân askeriyle kırup gelir. âhir cümlesi birer diyâra firâr edem sanup cümlesi dendân-ı tığdan geçüp ca’fer paşa müstakil serdâr-ı mu’azzam olup bu k\n",
      "yedi sekiz gûne neft olur, ammâ sarı neftî gâyet makbûldür ve siyâh neftî şâhlıkdır kim cemî’î acem diyârının özbekistân ve hindistân ve irâk ve kürdistân ve âl-i osmân ve gürcîstân ve moğol ve dağıstân [315a] serhadleri haddinde olan kılâlara bu kara neftî götürüp hîn-i muhâsarada şeb-i muzlimde m\n",
      "emini bunda hâkimdir. (—) yük akçe tahsil olur iltizâmdır. kardan beyâz ve hacı bektâş-ı velî tuzundan leziz tuzdur kim meşhûr-ı âfâkdır. cemî’î kürdistân ve türkmenistân’dan bingöl yaylasına çıkan benî âdemler cümle milhü ücâc-ı sâhib-ihtiyâc bu kemah tuzun alırlar, meşhûr-ı âfâk tuzdur. ve bu şeh\n"
     ]
    }
   ],
   "source": [
    "evliyaText.concordance(\"kürdistân\",300,30)"
   ]
  },
  {
   "cell_type": "code",
   "execution_count": 18,
   "metadata": {},
   "outputs": [
    {
     "name": "stdout",
     "output_type": "stream",
     "text": [
      "bursa; bursa; bursa'ya; bursa'ya; bursa'da; bursa'dır.; bursa'dır,;\n",
      "bursa; bursa'ya; bursa,; bursa’nın; bursa; bursa,; bursa’nın;\n",
      "bursa'ya; bursa; bursa'yı; bursa’ya; bursa’nın; bursa’yı; bursa;\n",
      "bursa’ya; bursa; bursa; bursa’ya; bursa; bursa’yı; bursa; bursa;\n",
      "bursa’ya; bursa; bursa; bursa’dan; bursa; bursa; bursa; bursa; bursa;\n",
      "bursa; bursa; bursa; bursa; bursa’nın; bursa; bursa’nın; bursa’ya;\n",
      "bursa’nın; bursa; bursa’yı; bursa; bursa’ya; bursa; bursa’ya; bursa;\n",
      "bursa; bursa’da; bursa’da; bursa; bursa; bursalıya; bursa; bursalılar;\n",
      "bursa; bursa’nın; bursa’nın; bursa; bursa; bursa; bursa’nın; bursa;\n",
      "bursa’yı; bursa; bursa’nın; bursa’nın; bursa; bursa; bursa; bursa;\n",
      "bursa’dan; bursa’yı; bursa; bursa’nın; bursa; bursa,; bursa;\n",
      "bursa’dan; bursa’ya; bursa; bursa; bursa; bursa; bursa; bursa’ya;\n",
      "bursa; bursa; bursa’nın; bursa; bursa; bursa; bursa; bursa’yı; bursa;\n",
      "bursa; bursa; bursa; bursa’nın; bursa’da; bursa; bursa’ya; bursa’da;\n",
      "bursa’dan; bursa’ya; bursa’da; bursa’da; bursa’da; bursa; bursa;\n",
      "bursa’da; bursa’ya; bursa’da; bursa’ya; bursa’da; bursa’da; bursa’ya;\n",
      "bursa’da; bursa’da; bursa’ya; bursa; bursa’da; bursa; bursa; bursa;\n",
      "bursa; bursa’nın; bursa’nın; bursa’da; bursa’ya; bursa; bursa’ya;\n",
      "bursa; bursa; bursa; bursa; bursa; bursa; bursa; bursa’da; bursa’da;\n",
      "bursa; bursa; bursa’ya; bursa’da; bursa’da; bursa’da; bursa; bursa’da;\n",
      "bursa; bursa’nın; bursa; bursa’da; bursavîdir.; bursa’da; bursa’nın;\n",
      "bursa; bursa’da; bursa’ya; bursa’ya; bursa; bursa; bursa; bursa;\n",
      "bursa; bursa; bursa’da; bursa’da; bursa; bursa’ya; bursa’da; bursa;\n",
      "bursa; bursa; bursa’da; bursa; bursa’da; bursa; bursa; bursa; bursa;\n",
      "bursa’ya; bursa’da; bursa; bursa; bursa’ya; bursa\n"
     ]
    }
   ],
   "source": [
    "q=evliyaText.findall(\"<[Bb]ursa.*>\")"
   ]
  },
  {
   "cell_type": "code",
   "execution_count": null,
   "metadata": {},
   "outputs": [],
   "source": []
  },
  {
   "cell_type": "code",
   "execution_count": 19,
   "metadata": {},
   "outputs": [
    {
     "name": "stdout",
     "output_type": "stream",
     "text": [
      "i̇znik şehrine; bursa şehrine; râhat-füzûn şehrine; konya şehrine;\n",
      "malatiyye şehrine; kankırı şehrine; konya şehrine; kayserîyye şehrine;\n",
      "bursa şehrine; aras şehrine; şekî şehrine; tortum: şehrine; köprü\n",
      "şehrine; köprü şehrine; köprü şehrine; gümüş şehrine; hoy şehrine\n"
     ]
    }
   ],
   "source": [
    "evliyaText.findall(\"<.*><şehrine>\")"
   ]
  },
  {
   "cell_type": "code",
   "execution_count": 20,
   "metadata": {},
   "outputs": [
    {
     "name": "stderr",
     "output_type": "stream",
     "text": [
      "[nltk_data] Downloading package stopwords to\n",
      "[nltk_data]     C:\\Users\\KHAS\\AppData\\Roaming\\nltk_data...\n",
      "[nltk_data]   Unzipping corpora\\stopwords.zip.\n"
     ]
    },
    {
     "data": {
      "text/plain": [
       "True"
      ]
     },
     "execution_count": 20,
     "metadata": {},
     "output_type": "execute_result"
    }
   ],
   "source": [
    "nltk.download('stopwords')"
   ]
  },
  {
   "cell_type": "code",
   "execution_count": 21,
   "metadata": {},
   "outputs": [
    {
     "name": "stdout",
     "output_type": "stream",
     "text": [
      "bursa # 95\n"
     ]
    },
    {
     "data": {
      "text/plain": [
       "[(' bursa’da ', 30),\n",
       " (' bursa’ya ', 23),\n",
       " (' bursa’nın ', 18),\n",
       " (' bursa’yı ', 6),\n",
       " (\" bursa'ya \", 4),\n",
       " (' bursa’dan ', 4),\n",
       " (' bursa, ', 3),\n",
       " (\" bursa'da \", 1),\n",
       " (\" bursa'dır. \", 1),\n",
       " (\" bursa'dır, \", 1),\n",
       " (\" bursa'yı \", 1),\n",
       " (' bursalıya ', 1),\n",
       " (' bursalılar ', 1),\n",
       " (' bursavîdir. ', 1)]"
      ]
     },
     "execution_count": 21,
     "metadata": {},
     "output_type": "execute_result"
    }
   ],
   "source": [
    "import re\n",
    "liste=re.findall(\" bursa[^ ]+ \", flat)\n",
    "print(\"bursa #\", len(liste))\n",
    "fd=nltk.FreqDist(liste)\n",
    "fd.most_common()"
   ]
  },
  {
   "cell_type": "code",
   "execution_count": 22,
   "metadata": {},
   "outputs": [
    {
     "name": "stdout",
     "output_type": "stream",
     "text": [
      "erzurum # 133\n"
     ]
    },
    {
     "data": {
      "text/plain": [
       "[(' erzurûm’a ', 45),\n",
       " (' erzurûm’da ', 31),\n",
       " (' erzurûm’dan ', 14),\n",
       " (' erzurûm’un ', 12),\n",
       " (' erzurûm’u ', 11),\n",
       " (' erzurûm: ', 6),\n",
       " (' erzurûm, ', 5),\n",
       " (' erzurûm’dur ', 2),\n",
       " (' erzurûmdur. ', 1),\n",
       " (' erzurûm-ı ', 1),\n",
       " (' erzurûm’dur, ', 1),\n",
       " (' erzurûmlu ', 1),\n",
       " (' erzurûm[a] ', 1),\n",
       " (' erzurûm’ı ', 1),\n",
       " (' erzurûm’dır. ', 1)]"
      ]
     },
     "execution_count": 22,
     "metadata": {},
     "output_type": "execute_result"
    }
   ],
   "source": [
    "import re\n",
    "liste=re.findall(\" erzurûm[^ ]+ \", flat)\n",
    "print(\"erzurum #\", len(liste))\n",
    "fd=nltk.FreqDist(liste)\n",
    "fd.most_common()"
   ]
  },
  {
   "cell_type": "code",
   "execution_count": 23,
   "metadata": {},
   "outputs": [
    {
     "name": "stdout",
     "output_type": "stream",
     "text": [
      " erzurûm’da \t31\n",
      " bursa’da \t30\n",
      " osmân’da \t25\n",
      " hân’da \t14\n",
      " rûm’da \t13\n",
      " tarabefzûn’da \t10\n",
      " anadolu’da \t8\n",
      " mısır’da \t8\n",
      " üsküdar’da \t8\n",
      " gürcîstân’da \t7\n",
      " merzifon’da \t6\n",
      " çıldır’da \t6\n",
      " revân’da \t5\n",
      " hisâr’da \t4\n",
      " hanya’da \t4\n",
      " temmûz’da \t3\n",
      " moskov’da \t3\n",
      " buhârâ’da \t3\n",
      " yunaniyân’da \t3\n",
      " kırım’da \t3\n",
      " dağıstân’da \t3\n",
      " azak’da \t3\n",
      " sultân’da \t3\n",
      " bağdâd’da \t3\n",
      " sürhâb’da \t3\n",
      " şirvân’da \t3\n",
      " haraz’da \t3\n",
      " demirkapu’da \t3\n",
      " çoruğ’da \t3\n",
      " mikrilistân’da \t3\n",
      " kızılırmak’da \t3\n",
      " konya’da \t2\n",
      " horâsân’da \t2\n",
      " hüdâvendigâr’da \t2\n",
      " tarabuzun’da \t2\n",
      " kıpçak’da \t2\n",
      " boğazhisâr’da \t2\n",
      " azerbaycân’da \t2\n",
      " arab’da \t2\n",
      " ağa’da \t2\n",
      " tataristân’da \t2\n",
      " kürdistân’da \t2\n",
      " tokat’da \t2\n",
      " etrâk’da \t2\n",
      " ruhbân’da \t1\n",
      " arabistân’da \t1\n",
      " monat’da \t1\n",
      " bolayır’da \t1\n",
      " orhân’da \t1\n",
      " nişâbûr’da \t1\n"
     ]
    }
   ],
   "source": [
    "#  mostly found cities\n",
    "liste=re.findall(\" \\w+’da \", flat)\n",
    "fd1=nltk.FreqDist(liste)\n",
    "q1=fd1.most_common(50)\n",
    "for p,cnt in q1:\n",
    "    print(\"%s\\t%s\"%(p,cnt))"
   ]
  },
  {
   "cell_type": "code",
   "execution_count": null,
   "metadata": {},
   "outputs": [],
   "source": []
  },
  {
   "cell_type": "code",
   "execution_count": 24,
   "metadata": {},
   "outputs": [
    {
     "data": {
      "text/plain": [
       "[(' paşa’ya ', 97),\n",
       " (' bursa’ya ', 23),\n",
       " (' ağa’ya ', 19),\n",
       " (' şemahı’ya ', 5),\n",
       " (' malta’ya ', 4),\n",
       " (' baba’ya ', 3),\n",
       " (' molla’ya ', 3),\n",
       " (' hanya’ya ', 3),\n",
       " (' mirza’ya ', 3),\n",
       " (' sakarya’ya ', 3)]"
      ]
     },
     "execution_count": 24,
     "metadata": {},
     "output_type": "execute_result"
    }
   ],
   "source": [
    "# mostly found person \n",
    "liste=re.findall(\" \\w+’ya \", flat)\n",
    "fd2=nltk.FreqDist(liste)\n",
    "q2=fd2.most_common(10)\n",
    "q2"
   ]
  },
  {
   "cell_type": "code",
   "execution_count": 25,
   "metadata": {},
   "outputs": [
    {
     "data": {
      "text/plain": [
       "[(' paşa’nın ', 76),\n",
       " (' bursa’nın ', 18),\n",
       " (' ağa’nın ', 8),\n",
       " (' sahrâsı’nın ', 2),\n",
       " (' mûsâ’nın ', 2),\n",
       " (' unkapanı’nın ', 2),\n",
       " (' hanya’nın ', 2),\n",
       " (' hânı’nın ', 2),\n",
       " (' abaza’nın ', 2),\n",
       " (' karahisârı’nın ', 2),\n",
       " (' hudâ’nın ', 2),\n",
       " (' baha’nın ', 2),\n",
       " (' edebalı’nın ', 1),\n",
       " (' sağdâ’nın ', 1),\n",
       " (' bınarbaşı’nın ', 1),\n",
       " (' rızâ’nın ', 1),\n",
       " (' fransa’nın ', 1),\n",
       " (' molla’nın ', 1),\n",
       " (' fırtıloğlu’nın ', 1),\n",
       " (' bafra’nın ', 1)]"
      ]
     },
     "execution_count": 25,
     "metadata": {},
     "output_type": "execute_result"
    }
   ],
   "source": [
    "# person or cities (places)\n",
    "liste=re.findall(\" \\w+’nın \", flat)\n",
    "fd3=nltk.FreqDist(liste)\n",
    "q3=fd3.most_common(20)\n",
    "q3\n"
   ]
  },
  {
   "cell_type": "code",
   "execution_count": 26,
   "metadata": {},
   "outputs": [
    {
     "data": {
      "text/plain": [
       "[(' paşa’dan ', 15),\n",
       " (' erzurûm’dan ', 14),\n",
       " (' hân’dan ', 11),\n",
       " (' ağa’dan ', 9),\n",
       " (' üsküdar’dan ', 8),\n",
       " (' murabba’dan ', 6),\n",
       " (' tarabefzûn’dan ', 6),\n",
       " (' revân’dan ', 6),\n",
       " (' sivas’dan ', 6),\n",
       " (' osmân’dan ', 5),\n",
       " (' elburz’dan ', 5),\n",
       " (' kırım’dan ', 5),\n",
       " (' kars’dan ', 5),\n",
       " (' merzifon’dan ', 5),\n",
       " (' bursa’dan ', 4),\n",
       " (' horâsân’dan ', 4),\n",
       " (' emeviyyûn’dan ', 4),\n",
       " (' mikrilistân’dan ', 4),\n",
       " (' bağdâd’dan ', 4),\n",
       " (' erzincan’dan ', 4)]"
      ]
     },
     "execution_count": 26,
     "metadata": {},
     "output_type": "execute_result"
    }
   ],
   "source": [
    "# person or cities (places)\n",
    "liste=re.findall(\" \\w+’dan \", flat)\n",
    "fd4=nltk.FreqDist(liste)\n",
    "q4=fd4.most_common(20)\n",
    "q4\n"
   ]
  },
  {
   "cell_type": "code",
   "execution_count": 27,
   "metadata": {},
   "outputs": [],
   "source": [
    "q1= [e[0].split(\"’\")[0].strip() for e in fd1.most_common(1000)]\n",
    "q4= [e[0].split(\"’\")[0].strip() for e in fd4.most_common(1000)]\n"
   ]
  },
  {
   "cell_type": "code",
   "execution_count": null,
   "metadata": {},
   "outputs": [],
   "source": []
  },
  {
   "cell_type": "code",
   "execution_count": 28,
   "metadata": {},
   "outputs": [
    {
     "name": "stdout",
     "output_type": "stream",
     "text": [
      "['amalika', 'anadolu', 'arab', 'araz', 'azak', 'azerbaycân', 'ağa', 'bağdâd', 'bosna', 'buhârâ', 'bursa', 'demirkapu', 'dâdyân', 'erzincan', 'erzurûm', 'gergerân', 'gürcîstân', 'hak', 'haraz', 'horâsân', 'hân', 'karacalar', 'kars', 'konya', 'kıpçak', 'kırım', 'kızılırmak', 'merzifon', 'mikrilistân', 'moskov', 'mısr', 'mısır', 'nahşivân', 'orhân', 'osmân', 'osmâncık', 'revân', 'sakarya', 'seylân', 'sivas', 'sultân', 'tarabefzûn', 'tatar', 'tokat', 'tortum', 'çerkezistân', 'üsküdar', 'şirvân']\n"
     ]
    }
   ],
   "source": [
    "cities =[ e for e in set(q1+q4) if e in q1 and e in q4 ]\n",
    "print(sorted(cities))"
   ]
  },
  {
   "cell_type": "code",
   "execution_count": null,
   "metadata": {},
   "outputs": [],
   "source": []
  },
  {
   "cell_type": "markdown",
   "metadata": {},
   "source": [
    "# Bigrams \n"
   ]
  },
  {
   "cell_type": "code",
   "execution_count": 31,
   "metadata": {},
   "outputs": [],
   "source": [
    "import nltk\n",
    "from nltk.collocations import *\n",
    "bigram_measures = nltk.collocations.BigramAssocMeasures()\n",
    "#trigram_measures = nltk.collocations.TrigramAssocMeasures()\n",
    "finder = BigramCollocationFinder.from_documents(lol)\n",
    "finder.apply_freq_filter(10)\n",
    "scored = finder.score_ngrams(bigram_measures.raw_freq)"
   ]
  },
  {
   "cell_type": "code",
   "execution_count": null,
   "metadata": {},
   "outputs": [],
   "source": []
  },
  {
   "cell_type": "code",
   "execution_count": 32,
   "metadata": {},
   "outputs": [
    {
     "data": {
      "text/plain": [
       "[('ahmed', 'ağa'),\n",
       " ('ahmed', 'hân'),\n",
       " ('ahmed', 'paşa'),\n",
       " ('ahmed', 'paşa’ya'),\n",
       " ('akçe', 'kazâdır.'),\n",
       " ('akçe', 'şerîf'),\n",
       " ('alay-ı', 'azîm'),\n",
       " ('alaybeğisi', 've'),\n",
       " ('aleyhim', 'ecma’în.'),\n",
       " ('allah', 'allah'),\n",
       " ('altun', 've'),\n",
       " ('altı', 'aded'),\n",
       " ('altı', 'bin'),\n",
       " ('altı', 'pâre'),\n",
       " ('altı', 'yüz'),\n",
       " ('alî', 'ağa'),\n",
       " ('alî', 'paşa'),\n",
       " ('alî', 'paşa’nın'),\n",
       " ('ammâ', 'bir'),\n",
       " ('ammâ', 'bu')]"
      ]
     },
     "execution_count": 32,
     "metadata": {},
     "output_type": "execute_result"
    }
   ],
   "source": [
    "sorted(bigram for bigram, score in scored) [40:60]"
   ]
  },
  {
   "cell_type": "markdown",
   "metadata": {},
   "source": [
    "# Significant Bigrams (PMI)"
   ]
  },
  {
   "cell_type": "code",
   "execution_count": 33,
   "metadata": {},
   "outputs": [
    {
     "data": {
      "text/plain": [
       "[('rub’-ı', 'meskûnda'),\n",
       " ('neye', 'müncer'),\n",
       " ('aleyhim', 'ecma’în.'),\n",
       " ('sulehâ-yı', 'ümmetden'),\n",
       " ('timur-ı', 'bî-nûr'),\n",
       " ('ân-ı', 'vâhidde'),\n",
       " ('ebû', 'i̇shâk'),\n",
       " ('harc-ı', 'râh'),\n",
       " ('şeb-i', 'muzlimde'),\n",
       " ('kat’-ı', 'menâzil'),\n",
       " ('istimdâd', 'taleb'),\n",
       " ('huzzâr-ı', 'meclis'),\n",
       " ('mürûr-ı', 'eyyâm'),\n",
       " ('reng-i', 'rûyları'),\n",
       " ('cemâ’at-i', 'kesîreye')]"
      ]
     },
     "execution_count": 33,
     "metadata": {},
     "output_type": "execute_result"
    }
   ],
   "source": [
    "finder.nbest(bigram_measures.pmi, 15) "
   ]
  },
  {
   "cell_type": "markdown",
   "metadata": {},
   "source": [
    "# Trigrams"
   ]
  },
  {
   "cell_type": "code",
   "execution_count": 35,
   "metadata": {},
   "outputs": [],
   "source": [
    "import nltk\n",
    "from nltk.collocations import *\n",
    "\n",
    "#bigram_measures = nltk.collocations.BigramAssocMeasures()\n",
    "trigram_measures = nltk.collocations.TrigramAssocMeasures()\n",
    "\n",
    "finder = TrigramCollocationFinder.from_documents(lol)\n",
    "finder.apply_freq_filter(10)\n",
    "scored = finder.score_ngrams(trigram_measures.raw_freq)\n"
   ]
  },
  {
   "cell_type": "code",
   "execution_count": 37,
   "metadata": {},
   "outputs": [
    {
     "data": {
      "text/plain": [
       "[('bâlâda', 'tahrîr', 'olunan'),\n",
       " ('bâğ', 'u', 'bâğçeli'),\n",
       " ('bâğ', 'u', 'bâğçesi'),\n",
       " ('bâğlı', 've', 'bâğçeli'),\n",
       " ('bâğı', 've', 'bâğçesi'),\n",
       " ('ceng', '[ü]', 'cidâl'),\n",
       " ('câmi’', 've', 'hân'),\n",
       " ('câmi’li', 've', 'hân'),\n",
       " ('cümle', '(—)', 'aded'),\n",
       " ('cümle', 'guzât-ı', 'müslimîn'),\n",
       " ('cümle', 'iki', 'bin'),\n",
       " ('cümle', 'on', 'bir'),\n",
       " ('cümle', 'üç', 'bin'),\n",
       " ('cümle', 'üç', 'yüz'),\n",
       " ('defterdârzâde', 'mehemmed', 'paşa'),\n",
       " ('deryâ-misâl', 'asker', 'ile'),\n",
       " ('derûn-ı', 'kal’ada', 'olan'),\n",
       " ('devlet-i', 'âl-i', 'osmân’da'),\n",
       " ('dipi', 've', 'boran'),\n",
       " ('dizdârı', 've', 'neferâtları')]"
      ]
     },
     "execution_count": 37,
     "metadata": {},
     "output_type": "execute_result"
    }
   ],
   "source": [
    "sorted(bigram for bigram, score in scored) [40:60]"
   ]
  },
  {
   "cell_type": "markdown",
   "metadata": {},
   "source": [
    "# Significant Trigrams (PMI)"
   ]
  },
  {
   "cell_type": "code",
   "execution_count": 38,
   "metadata": {},
   "outputs": [
    {
     "data": {
      "text/plain": [
       "[('rahmetullahi', 'aleyhim', 'ecma’în.'),\n",
       " ('sancak', 'beği', 'tahtıdır.'),\n",
       " ('eflâke', 'ser', 'çekmiş'),\n",
       " ('âyende', 'vü', 'revende'),\n",
       " ('âyende', 'vü', 'revendeye'),\n",
       " ('(...)', '(...)', '(...)'),\n",
       " ('evc-i', 'âsumâna', 'ser'),\n",
       " ('âsumâna', 'ser', 'çekmiş'),\n",
       " ('hacı', 'bektâş-ı', 'velî'),\n",
       " ('devlet-i', 'âl-i', 'osmân’da'),\n",
       " ('(-)', '(-)', '(-)'),\n",
       " ('ceng', '[ü]', 'cidâl'),\n",
       " ('zâhir', 'ü', 'bâhirdir.'),\n",
       " ('ta’mîr', 'u', 'termîm'),\n",
       " ('(2.5', 'satır', 'boş)')]"
      ]
     },
     "execution_count": 38,
     "metadata": {},
     "output_type": "execute_result"
    }
   ],
   "source": [
    "finder.nbest(bigram_measures.pmi, 15) "
   ]
  },
  {
   "cell_type": "markdown",
   "metadata": {},
   "source": [
    "# Word Embeddings"
   ]
  },
  {
   "cell_type": "code",
   "execution_count": 39,
   "metadata": {},
   "outputs": [],
   "source": [
    "evliyaMetin=[nltk.wordpunct_tokenize(s) for s in los]"
   ]
  },
  {
   "cell_type": "code",
   "execution_count": 40,
   "metadata": {},
   "outputs": [
    {
     "name": "stdout",
     "output_type": "stream",
     "text": [
      "['cümle', '300', 'cümleden', 'mükellef', ',', 'âsitâne', '-', 'i', 'hazret', '-', 'i', 'mevlânâ', '-', 'yı', 'celâleddîn', '-', 'i', 'rûmî', '’', 'dir', '.', 'bunarbaşı', 'râhı', 'üzre', 'yetmiş', 'seksen', 'aded', 'fukarâ', 'hücreleriyle', 've', 'semâ', '’', '[', 'u', ']', 'safâ', 'meydâniyle', 'arasta', 've', 'bâğ', 'u', 'bâğçesiyle', 'pîrâste', 'bir', 'tekye', '-', 'i', 'gülistan', '[', 'u', ']', 'bostandır', '.', 'andan']\n"
     ]
    }
   ],
   "source": [
    "print(evliyaMetin[100]);"
   ]
  },
  {
   "cell_type": "code",
   "execution_count": 41,
   "metadata": {},
   "outputs": [
    {
     "data": {
      "text/plain": [
       "'\\ninput             # training file path (required)\\nmodel             # unsupervised fasttext model {cbow, skipgram} [skipgram]\\nlr                # learning rate [0.05]\\ndim               # size of word vectors [100]\\nws                # size of the context window [5]\\nepoch             # number of epochs [5]\\nminCount          # minimal number of word occurences [5]\\nminn              # min length of char ngram [3]\\nmaxn              # max length of char ngram [6]\\nneg               # number of negatives sampled [5]\\nwordNgrams        # max length of word ngram [1]\\nloss              # loss function {ns, hs, softmax, ova} [ns]\\nbucket            # number of buckets [2000000]\\nthread            # number of threads [number of cpus]\\nlrUpdateRate      # change the rate of updates for the learning rate [100]\\nt                 # sampling threshold [0.0001]\\nverbose           # verbose [2]\\n'"
      ]
     },
     "execution_count": 41,
     "metadata": {},
     "output_type": "execute_result"
    }
   ],
   "source": [
    "'''\n",
    "input             # training file path (required)\n",
    "model             # unsupervised fasttext model {cbow, skipgram} [skipgram]\n",
    "lr                # learning rate [0.05]\n",
    "dim               # size of word vectors [100]\n",
    "ws                # size of the context window [5]\n",
    "epoch             # number of epochs [5]\n",
    "minCount          # minimal number of word occurences [5]\n",
    "minn              # min length of char ngram [3]\n",
    "maxn              # max length of char ngram [6]\n",
    "neg               # number of negatives sampled [5]\n",
    "wordNgrams        # max length of word ngram [1]\n",
    "loss              # loss function {ns, hs, softmax, ova} [ns]\n",
    "bucket            # number of buckets [2000000]\n",
    "thread            # number of threads [number of cpus]\n",
    "lrUpdateRate      # change the rate of updates for the learning rate [100]\n",
    "t                 # sampling threshold [0.0001]\n",
    "verbose           # verbose [2]\n",
    "'''"
   ]
  },
  {
   "cell_type": "code",
   "execution_count": 45,
   "metadata": {},
   "outputs": [],
   "source": [
    "#model = fasttext.train_unsupervised(lol, model='skipgram')"
   ]
  },
  {
   "cell_type": "code",
   "execution_count": null,
   "metadata": {},
   "outputs": [],
   "source": []
  }
 ],
 "metadata": {
  "colab": {
   "collapsed_sections": [],
   "name": "Analysis 2.ipynb",
   "provenance": []
  },
  "kernelspec": {
   "display_name": "Python 3",
   "language": "python",
   "name": "python3"
  },
  "language_info": {
   "codemirror_mode": {
    "name": "ipython",
    "version": 3
   },
   "file_extension": ".py",
   "mimetype": "text/x-python",
   "name": "python",
   "nbconvert_exporter": "python",
   "pygments_lexer": "ipython3",
   "version": "3.7.4"
  }
 },
 "nbformat": 4,
 "nbformat_minor": 4
}
