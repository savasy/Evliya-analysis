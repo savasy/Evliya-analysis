{
 "cells": [
  {
   "cell_type": "code",
   "execution_count": 194,
   "metadata": {
    "colab": {},
    "colab_type": "code",
    "id": "1Gpf4kmb-5GH"
   },
   "outputs": [],
   "source": [
    "import os,re\n",
    "import pickle\n",
    "import numpy as np\n",
    "import os"
   ]
  },
  {
   "cell_type": "code",
   "execution_count": 195,
   "metadata": {
    "colab": {
     "base_uri": "https://localhost:8080/",
     "height": 171
    },
    "colab_type": "code",
    "executionInfo": {
     "elapsed": 1894,
     "status": "error",
     "timestamp": 1577184661156,
     "user": {
      "displayName": "Savas Yıldırım",
      "photoUrl": "https://lh3.googleusercontent.com/a-/AAuE7mAXXLjVbTH03-neVxUIKoaTwyHYs4NI5ioEDPbd3g=s64",
      "userId": "10717726124681851716"
     },
     "user_tz": -180
    },
    "id": "NDOYDSuQh9MJ",
    "outputId": "1ed15bca-34ee-4687-9513-a1c5e4f9dd91"
   },
   "outputs": [],
   "source": [
    "lines= [line.lower() for line in open('evliya4.txt')]\n",
    "text= [line.split() for line in lines]\n",
    "text2=[list(map(lambda x: x.replace('\"',''), t )) for t in text]"
   ]
  },
  {
   "cell_type": "code",
   "execution_count": 197,
   "metadata": {
    "colab": {
     "base_uri": "https://localhost:8080/",
     "height": 121
    },
    "colab_type": "code",
    "executionInfo": {
     "elapsed": 33439,
     "status": "ok",
     "timestamp": 1576427412724,
     "user": {
      "displayName": "Savas Yıldırım",
      "photoUrl": "https://lh3.googleusercontent.com/a-/AAuE7mAXXLjVbTH03-neVxUIKoaTwyHYs4NI5ioEDPbd3g=s64",
      "userId": "10717726124681851716"
     },
     "user_tz": -180
    },
    "id": "Rn73-E-F_Kyi",
    "outputId": "214c3a1e-a7d2-41c6-b0c9-25dccd56f02e"
   },
   "outputs": [
    {
     "data": {
      "text/plain": [
       "['dibâce-i', 'seyâhatnâme-i', 'seyyâh-ı', 'âlem', 'evliyâ-yı', 'bî-riyâ']"
      ]
     },
     "execution_count": 197,
     "metadata": {},
     "output_type": "execute_result"
    }
   ],
   "source": [
    "text[0]"
   ]
  },
  {
   "cell_type": "code",
   "execution_count": 78,
   "metadata": {},
   "outputs": [],
   "source": []
  },
  {
   "cell_type": "code",
   "execution_count": 204,
   "metadata": {},
   "outputs": [],
   "source": [
    "evliya=[]\n",
    "for e in text:\n",
    "    evliya=evliya+e\n",
    "evliya2=nltk.Text(evliya)"
   ]
  },
  {
   "cell_type": "code",
   "execution_count": 205,
   "metadata": {},
   "outputs": [
    {
     "name": "stdout",
     "output_type": "stream",
     "text": [
      "Displaying 10 of 10 matches:\n",
      "ûfe< emriyle evkât-ı hamseye me’mûr eyledi ve şerâ’it-i i̇slâm'dan salât [u] s\n",
      " mazmûn-ı dilküşâyı bu tarîkle inşâ eyledi kim müverrihân-ı rûm ve nükte-perdâ\n",
      "e-i mezbûrda saltık sultân vasıyyet eyledi kim \"beni gasl edüp yedi tâbût âmâd\n",
      "lım top-ı pür-renk [ve] alay-ı ceng eyledi kim zemîn ü âsumân dir dir ditreyüp\n",
      "z kasrın âhir-i mısra’-ı târîhidir: eyledi ferhâd eyvân-ı şîrîn, sene 983. mes\n",
      "-i lâlâ-yı mustafâ paşa şâh-ı şâhân eyledi tahmâs’a azm sene 956}. andan dârü’\n",
      "eyledim\" deyü çâşnigîrbaşına tenbîh eyledi ve akîbince çukâdar behlül ağa ile \n",
      " erzurûm’da gümrük kâtibliği i̇hsan eyledi ve üç kerre acem diyârına gönderdi \n",
      "rdır: târîh-i cülûs: hân-ı mehemmed eyledi [(—)] âsûde dünyâyı1 diğer târîh: o\n",
      "ca (—) \"cülûs-ı hân mehemmed [373b] eyledi âsûde dünyâyı\" [1058] fehvâsınca ci\n"
     ]
    }
   ],
   "source": [
    "evliya2.concordance(\"eyledi\")"
   ]
  },
  {
   "cell_type": "code",
   "execution_count": 206,
   "metadata": {},
   "outputs": [
    {
     "name": "stdout",
     "output_type": "stream",
     "text": [
      "Displaying 25 of 97 matches:\n",
      "p ânî gördüm, bir tedârik-i azîm ile bursa şehrinin teferrücü ve ziyâretlerine \n",
      "kadîm-i evvel, sevâd-ı mu'azzam olan bursa şehrin seyr [u] temâşâ edüp kalbün â\n",
      "ki bin guruş hâsıl olur. ba‘zı zamân bursa müvellâsına paşmaklık-bahâ ihsân olu\n",
      "mânîsi üzre ber-hevâ tayarân ederken bursa hâyilinde sâbite olan ebel-i ruhbân'\n",
      "di. emin nebî'nin du‘âsı berekâtiyle bursa tûfândan sonra imâristân-ı emînullah\n",
      "e müjde ile orhân seğirdüp vardıkda, bursa feth olduğu sâ’at osmân gâzî rûh tes\n",
      "ümmü’l-fütûhîndir.\" sene [626], ammâ bursa lafzı noksandır. ba’dehû ılgar ile o\n",
      "rsun fakîh tilâvet etdi. ez-în-cânib bursa feth-i cedîd olmağıla kayseriyye ve \n",
      "lüp tavattun etdiler. i̇lâ hâze’l-ân bursa ma’mûr [u] âbâdân olmadadır. ammâ ib\n",
      "muz olduğu mahalde. evsâf-ı imârât-ı bursa i̇ç kal’ada cümle iki bin hâne-i zîb\n",
      "e edirne sarâyı’na rağbet kal- mayup bursa sarâyı hâlâ mu’attaldır, ammâ ser-âb\n",
      "ürüstdür. evsâf-ı hâkimân-ı bender-i bursa evvelâ fâtih sultân mehemmed’den ber\n",
      " ile hükm eder ve bir oda yeniçeri-i bursa ağası ve cebeci çorbacısı ve yigirmi\n",
      " hasan ve cennetoğlu nâm celâlîlerin bursa üzre hücûmların a’yân-ı bursa istimâ\n",
      "îlerin bursa üzre hücûmların a’yân-ı bursa istimâ’ edüp fermân-ı şehriyâriyle ş\n",
      "arzında bilâd-ı seb’anm biri dahi bu bursa şehridir. evsâf-ı câmi’hâ-yı selâtîn\n",
      "gûyâ bir kal’a-i sedd-i kahkahâ’dır. bursa şehrinin hevâdâr mürtefı’ yerine vâk\n",
      "çre böyle rûhâniyyetli câmi’ yokdur. bursa şehrinin gûyâ ayasofyası’dır. ve şeh\n",
      "bâdethâne tahrîr olundu. ammâ ibtidâ bursa fethinde binâ olunan yukaru ve iç ka\n",
      "ya’nî şehîd murâd hân-ı evvel câmi’i bursa şehrinin cânib-i garbında nısf sâ’at\n",
      "n : sene (—) târihinde binâ olunmuş, bursa şehrinin cânib-i şarkîsinde şehrin r\n",
      "i’dir. manzûrumuz olduğu üzre şehr-i bursa içre böyle münakkaş câmi’ yokdur. se\n",
      "r-gîr dîvârlardır. evsâf-ı mesâcid-i bursa bu cevâmi’lerden mâ’adâ cümle (—) ad\n",
      "b] evsâf-ı medâris-i tahsîl-i ulûm-ı bursa evvelâ medrese-i {manastır’da} orhân\n",
      "âğ [u] bostânları saky eder. zirâ bu bursa şehri cebel-i ruhbân’ın dâmenine düş\n"
     ]
    }
   ],
   "source": [
    "evliya2.concordance(\"Bursa\")"
   ]
  },
  {
   "cell_type": "code",
   "execution_count": 225,
   "metadata": {},
   "outputs": [
    {
     "name": "stdout",
     "output_type": "stream",
     "text": [
      "Displaying 20 of 20 matches:\n",
      "rdüm, bir tedârik-i azîm ile bursa şehrinin teferrücü ve ziyâretlerine âmâde o\n",
      " kal’a-i sedd-i kahkahâ’dır. bursa şehrinin hevâdâr mürtefı’ yerine vâkı’ olmu\n",
      "e rûhâniyyetli câmi’ yokdur. bursa şehrinin gûyâ ayasofyası’dır. ve şehrin güz\n",
      "hîd murâd hân-ı evvel câmi’i bursa şehrinin cânib-i garbında nısf sâ’at ba’îd \n",
      " (—) târihinde binâ olunmuş, bursa şehrinin cânib-i şarkîsinde şehrin ravza-i \n",
      "e tahte’l-kal’ası vardır. ve bursa şehrinin cemî’î tarîk-ı âmları çakmak taşıy\n",
      ". anınçün keşiş dağı derler. bursa şehrinin cânib-i kıblesinde şehre hâ’il, ef\n",
      ": \"intikâl-ı emîr\" sene 833. bursa şehrinin hâricinde cânib-i şarkında bir mür\n",
      "anı gayet latîf olmağıla gekbiziye şehrinin iskelesidir. gekbiziye anın şimâli\n",
      "tna’mûr ve müzeyyen değildir. bolu şehrinin iskelesidir. leb-i deryâda serâpâ \n",
      "nde karadeniz’e katılır. ve samsun şehrinin suyuna kanava vü geriz derler, mâ-\n",
      "n cem’ olup cereyân ederek bayburd şehrinin içinden cereyân edüp iki tarafı ma\n",
      "-i azîm moskov vilâyetinin (—) nâm şehrinin dağlarından gelüp üç yerden azak d\n",
      "zdir, lâkin amık değildir. bu bakü şehrinin niçe gün seyr [u] temâşâsın ederke\n",
      "darı ve neferâtları yokdur. tortum şehrinin cânib-i şimâline vâki’ olmuşdur. c\n",
      "’da sabanca somunundan sonra lâdik şehrinin memecik ekmeği rub’-ı meskûnda pem\n",
      "yâtlar cereyân edüp nısfı merzifon şehrinin bâğ u bâğçelerin saky eder. ve cüm\n",
      "nâ ve mü’eddebelerdir. ve bu köprü şehrinin iskeleleri karadeniz sâhilinde baf\n",
      "rı birer konak yerdir. ve bu köprü şehrinin (—) tarafında beş sâ’at karîb, evs\n",
      "eğile germiyân hezârı derler. ammâ şehrinin ulemâ ve zurefâları şehr-i bebekbâ\n"
     ]
    }
   ],
   "source": [
    "evliya2.concordance(\"şehrinin\")"
   ]
  },
  {
   "cell_type": "markdown",
   "metadata": {},
   "source": [
    "# Bigrams \n"
   ]
  },
  {
   "cell_type": "code",
   "execution_count": 211,
   "metadata": {},
   "outputs": [],
   "source": [
    "import nltk\n",
    "from nltk.collocations import *\n",
    "bigram_measures = nltk.collocations.BigramAssocMeasures()\n",
    "#trigram_measures = nltk.collocations.TrigramAssocMeasures()\n",
    "finder = BigramCollocationFinder.from_documents(text2)\n",
    "finder.apply_freq_filter(10)\n",
    "scored = finder.score_ngrams(bigram_measures.raw_freq)"
   ]
  },
  {
   "cell_type": "code",
   "execution_count": null,
   "metadata": {},
   "outputs": [],
   "source": []
  },
  {
   "cell_type": "code",
   "execution_count": 216,
   "metadata": {},
   "outputs": [
    {
     "data": {
      "text/plain": [
       "[('ahmed', 'ağa'),\n",
       " ('ahmed', 'hân'),\n",
       " ('ahmed', 'paşa'),\n",
       " ('ahmed', 'paşa’ya'),\n",
       " ('akçe', 'kazâdır.'),\n",
       " ('akçe', 'şerîf'),\n",
       " ('alay-ı', 'azîm'),\n",
       " ('alaybeğisi', 've'),\n",
       " ('aleyhim', 'ecma’în.'),\n",
       " ('allah', 'allah'),\n",
       " ('altun', 've'),\n",
       " ('altı', 'aded'),\n",
       " ('altı', 'bin'),\n",
       " ('altı', 'pâre'),\n",
       " ('altı', 'yüz'),\n",
       " ('alî', 'ağa'),\n",
       " ('alî', 'paşa'),\n",
       " ('alî', 'paşa’nın'),\n",
       " ('ammâ', 'bir'),\n",
       " ('ammâ', 'bu')]"
      ]
     },
     "execution_count": 216,
     "metadata": {},
     "output_type": "execute_result"
    }
   ],
   "source": [
    "sorted(bigram for bigram, score in scored) [40:60]"
   ]
  },
  {
   "cell_type": "markdown",
   "metadata": {},
   "source": [
    "# Significant Bigrams (PMI)"
   ]
  },
  {
   "cell_type": "code",
   "execution_count": 218,
   "metadata": {},
   "outputs": [
    {
     "data": {
      "text/plain": [
       "[('rub’-ı', 'meskûnda'),\n",
       " ('neye', 'müncer'),\n",
       " ('aleyhim', 'ecma’în.'),\n",
       " ('sulehâ-yı', 'ümmetden'),\n",
       " ('timur-ı', 'bî-nûr'),\n",
       " ('ân-ı', 'vâhidde'),\n",
       " ('ebû', 'i̇shâk'),\n",
       " ('harc-ı', 'râh'),\n",
       " ('şeb-i', 'muzlimde'),\n",
       " ('kat’-ı', 'menâzil'),\n",
       " ('istimdâd', 'taleb'),\n",
       " ('huzzâr-ı', 'meclis'),\n",
       " ('mürûr-ı', 'eyyâm'),\n",
       " ('reng-i', 'rûyları'),\n",
       " ('cemâ’at-i', 'kesîreye')]"
      ]
     },
     "execution_count": 218,
     "metadata": {},
     "output_type": "execute_result"
    }
   ],
   "source": [
    "finder.nbest(bigram_measures.pmi, 15) "
   ]
  },
  {
   "cell_type": "markdown",
   "metadata": {},
   "source": [
    "# Trigrams"
   ]
  },
  {
   "cell_type": "code",
   "execution_count": 219,
   "metadata": {},
   "outputs": [],
   "source": [
    "import nltk\n",
    "from nltk.collocations import *\n",
    "\n",
    "#bigram_measures = nltk.collocations.BigramAssocMeasures()\n",
    "trigram_measures = nltk.collocations.TrigramAssocMeasures()\n",
    "\n",
    "finder = TrigramCollocationFinder.from_documents(text2)\n",
    "finder.apply_freq_filter(10)\n",
    "scored = finder.score_ngrams(trigram_measures.raw_freq)\n"
   ]
  },
  {
   "cell_type": "code",
   "execution_count": 220,
   "metadata": {},
   "outputs": [
    {
     "data": {
      "text/plain": [
       "[('bâlâda', 'tahrîr', 'olunan'),\n",
       " ('bâğ', 'u', 'bâğçeli'),\n",
       " ('bâğ', 'u', 'bâğçesi'),\n",
       " ('bâğlı', 've', 'bâğçeli'),\n",
       " ('bâğı', 've', 'bâğçesi'),\n",
       " ('ceng', '[ü]', 'cidâl'),\n",
       " ('câmi’', 've', 'hân'),\n",
       " ('câmi’li', 've', 'hân'),\n",
       " ('cümle', '(—)', 'aded'),\n",
       " ('cümle', 'guzât-ı', 'müslimîn'),\n",
       " ('cümle', 'iki', 'bin'),\n",
       " ('cümle', 'on', 'bir'),\n",
       " ('cümle', 'üç', 'bin'),\n",
       " ('cümle', 'üç', 'yüz'),\n",
       " ('defterdârzâde', 'mehemmed', 'paşa'),\n",
       " ('deryâ-misâl', 'asker', 'ile'),\n",
       " ('derûn-ı', 'kal’ada', 'olan'),\n",
       " ('devlet-i', 'âl-i', 'osmân’da'),\n",
       " ('dipi', 've', 'boran'),\n",
       " ('dizdârı', 've', 'neferâtları')]"
      ]
     },
     "execution_count": 220,
     "metadata": {},
     "output_type": "execute_result"
    }
   ],
   "source": [
    "sorted(bigram for bigram, score in scored) [40:60]"
   ]
  },
  {
   "cell_type": "markdown",
   "metadata": {},
   "source": [
    "# Significant Trigrams (PMI)"
   ]
  },
  {
   "cell_type": "code",
   "execution_count": 222,
   "metadata": {},
   "outputs": [
    {
     "data": {
      "text/plain": [
       "[('rahmetullahi', 'aleyhim', 'ecma’în.'),\n",
       " ('sancak', 'beği', 'tahtıdır.'),\n",
       " ('eflâke', 'ser', 'çekmiş'),\n",
       " ('âyende', 'vü', 'revende'),\n",
       " ('âyende', 'vü', 'revendeye'),\n",
       " ('(...)', '(...)', '(...)'),\n",
       " ('evc-i', 'âsumâna', 'ser'),\n",
       " ('âsumâna', 'ser', 'çekmiş'),\n",
       " ('hacı', 'bektâş-ı', 'velî'),\n",
       " ('devlet-i', 'âl-i', 'osmân’da'),\n",
       " ('(-)', '(-)', '(-)'),\n",
       " ('ceng', '[ü]', 'cidâl'),\n",
       " ('zâhir', 'ü', 'bâhirdir.'),\n",
       " ('ta’mîr', 'u', 'termîm'),\n",
       " ('(2.5', 'satır', 'boş)')]"
      ]
     },
     "execution_count": 222,
     "metadata": {},
     "output_type": "execute_result"
    }
   ],
   "source": [
    "finder.nbest(bigram_measures.pmi, 15) "
   ]
  }
 ],
 "metadata": {
  "colab": {
   "collapsed_sections": [],
   "name": "Analysis 2.ipynb",
   "provenance": []
  },
  "kernelspec": {
   "display_name": "Python 3",
   "language": "python",
   "name": "python3"
  },
  "language_info": {
   "codemirror_mode": {
    "name": "ipython",
    "version": 3
   },
   "file_extension": ".py",
   "mimetype": "text/x-python",
   "name": "python",
   "nbconvert_exporter": "python",
   "pygments_lexer": "ipython3",
   "version": "3.7.3"
  }
 },
 "nbformat": 4,
 "nbformat_minor": 1
}
